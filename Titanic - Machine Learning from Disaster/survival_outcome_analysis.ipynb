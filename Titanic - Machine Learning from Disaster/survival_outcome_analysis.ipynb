{
 "cells": [
  {
   "cell_type": "markdown",
   "metadata": {},
   "source": [
    "# I. **read data**"
   ]
  },
  {
   "cell_type": "code",
   "execution_count": 2,
   "metadata": {},
   "outputs": [],
   "source": [
    "import pandas as pd"
   ]
  },
  {
   "cell_type": "code",
   "execution_count": 3,
   "metadata": {},
   "outputs": [],
   "source": [
    "train_data = pd.read_csv(\n",
    "    \"train.csv\",\n",
    "    index_col=0,\n",
    "    dtype={\n",
    "        \"Survived\":\"int64\",\n",
    "        \"Pclass\":\"category\",\n",
    "        \"Sex\":\"category\",\n",
    "        \"Embarked\": \"category\"\n",
    "        }\n",
    "    )\n",
    "test_data = pd.read_csv(\n",
    "    \"test.csv\",\n",
    "    index_col=0,\n",
    "    dtype={\n",
    "        \"Pclass\":\"category\",\n",
    "        \"Sex\":\"category\",\n",
    "        \"Embarked\": \"category\"\n",
    "        }\n",
    "    )\n"
   ]
  },
  {
   "cell_type": "code",
   "execution_count": 4,
   "metadata": {},
   "outputs": [
    {
     "data": {
      "text/plain": [
       "0.7420382165605095"
      ]
     },
     "execution_count": 4,
     "metadata": {},
     "output_type": "execute_result"
    }
   ],
   "source": [
    "#test\n",
    "train_data[train_data[\"Sex\"] == \"female\"][\"Survived\"].mean()"
   ]
  },
  {
   "cell_type": "markdown",
   "metadata": {},
   "source": [
    "# II. **Calculate the Surviving probability of categorical metrics**  \n",
    "Already existing categorical metrics :   \n",
    "+ Pclass   \n",
    "+ Sex   \n",
    "+ Embarke   "
   ]
  },
  {
   "cell_type": "markdown",
   "metadata": {},
   "source": [
    "## II.1 Extract additional metric \"title\""
   ]
  },
  {
   "cell_type": "code",
   "execution_count": 5,
   "metadata": {},
   "outputs": [],
   "source": [
    "# extract posible titles\n",
    "def get_title(string_name):\n",
    "    return string_name[string_name.find(\",\")+2:string_name.find(\".\",string_name.find(\",\"))]\n",
    "\n",
    "train_data[\"temp_title\"] = [get_title(i) for i in train_data[\"Name\"]]\n",
    "test_data[\"temp_title\"] = [get_title(i) for i in test_data[\"Name\"]]\n"
   ]
  },
  {
   "cell_type": "code",
   "execution_count": 6,
   "metadata": {},
   "outputs": [
    {
     "data": {
      "text/plain": [
       "Mr              517\n",
       "Miss            182\n",
       "Mrs             125\n",
       "Master           40\n",
       "Dr                7\n",
       "Rev               6\n",
       "Mlle              2\n",
       "Major             2\n",
       "Col               2\n",
       "the Countess      1\n",
       "Capt              1\n",
       "Ms                1\n",
       "Sir               1\n",
       "Lady              1\n",
       "Mme               1\n",
       "Don               1\n",
       "Jonkheer          1\n",
       "Name: temp_title, dtype: int64"
      ]
     },
     "execution_count": 6,
     "metadata": {},
     "output_type": "execute_result"
    }
   ],
   "source": [
    "# check the available title\n",
    "train_data[\"temp_title\"].value_counts()"
   ]
  },
  {
   "cell_type": "code",
   "execution_count": 7,
   "metadata": {},
   "outputs": [],
   "source": [
    "# based on the ouput of above code, there are 6 titles that has enough data to calculate:\n",
    "# \"Mr\",\"Miss\",\"Mrs\",\"Master\",\"Dr\",\"Rev\"\n",
    "# the other titles will be labeled \"Other\"\n",
    "def get_title(temp_title_string):\n",
    "    title = [\"Mr\",\"Miss\",\"Mrs\",\"Master\",\"Dr\",\"Rev\"]\n",
    "    if temp_title_string in title:\n",
    "        return temp_title_string\n",
    "    else: return \"Other\"\n",
    "train_data[\"title\"] = [get_title(i) for i in train_data[\"temp_title\"]]\n",
    "train_data.title = train_data.title.astype(\"category\")\n",
    "test_data[\"title\"] = [get_title(i) for i in test_data[\"temp_title\"]]\n",
    "test_data.title = test_data.title.astype(\"category\")"
   ]
  },
  {
   "cell_type": "code",
   "execution_count": 8,
   "metadata": {},
   "outputs": [
    {
     "data": {
      "text/plain": [
       "Mr        240\n",
       "Miss       78\n",
       "Mrs        72\n",
       "Master     21\n",
       "Other       4\n",
       "Rev         2\n",
       "Dr          1\n",
       "Name: title, dtype: int64"
      ]
     },
     "execution_count": 8,
     "metadata": {},
     "output_type": "execute_result"
    }
   ],
   "source": [
    "test_data.title.value_counts()"
   ]
  },
  {
   "cell_type": "code",
   "execution_count": 9,
   "metadata": {},
   "outputs": [],
   "source": [
    "train_data[\"Survived\"] = train_data[\"Survived\"].astype(\"int64\")"
   ]
  },
  {
   "cell_type": "markdown",
   "metadata": {},
   "source": [
    "## II.2 create **function** to return **probability of survival**, based on **known categorical metrics**"
   ]
  },
  {
   "cell_type": "code",
   "execution_count": 10,
   "metadata": {},
   "outputs": [],
   "source": [
    "# dictionary of survival rate of each categorical metrics\n",
    "Embarked = train_data.groupby(\"Embarked\").mean().Survived.to_dict()\n",
    "Pclass = train_data.groupby(\"Pclass\").mean().Survived.to_dict()\n",
    "Sex = train_data.groupby(\"Sex\").mean().Survived.to_dict()\n",
    "title = train_data.groupby(\"title\").mean().Survived.to_dict()"
   ]
  },
  {
   "cell_type": "code",
   "execution_count": 55,
   "metadata": {},
   "outputs": [],
   "source": [
    "train_data_test = train_data[\n",
    "[\"Name\",\"Embarked\",\"Pclass\",\"Sex\",\"title\",\"Survived\"]\n",
    "]"
   ]
  },
  {
   "cell_type": "code",
   "execution_count": 56,
   "metadata": {},
   "outputs": [],
   "source": [
    "def return_dict_value_keyerror(dic,key):\n",
    "    try:\n",
    "        return dic[key]\n",
    "    except KeyError:\n",
    "        return \"no\"\n",
    "def cal_survival(em,pc,se,ti):\n",
    "    avr = []\n",
    "    if return_dict_value_keyerror(Embarked,em) != \"no\":\n",
    "        avr.append(return_dict_value_keyerror(Embarked,em))\n",
    "    if return_dict_value_keyerror(Pclass,pc) != \"no\":\n",
    "        avr.append(return_dict_value_keyerror(Pclass,pc))\n",
    "    if return_dict_value_keyerror(Sex,se) != \"no\":\n",
    "        avr.append(return_dict_value_keyerror(Sex,se))\n",
    "    if return_dict_value_keyerror(title,ti) != \"no\":\n",
    "        avr.append(return_dict_value_keyerror(title,ti))\n",
    "    return sum(avr)/len(avr)\n"
   ]
  },
  {
   "cell_type": "code",
   "execution_count": 57,
   "metadata": {},
   "outputs": [
    {
     "name": "stderr",
     "output_type": "stream",
     "text": [
      "/tmp/ipykernel_21194/3908707197.py:1: SettingWithCopyWarning: \n",
      "A value is trying to be set on a copy of a slice from a DataFrame.\n",
      "Try using .loc[row_indexer,col_indexer] = value instead\n",
      "\n",
      "See the caveats in the documentation: https://pandas.pydata.org/pandas-docs/stable/user_guide/indexing.html#returning-a-view-versus-a-copy\n",
      "  train_data_test[\"calculated_survival_rate\"] = [cal_survival(ent[1],ent[2],ent[3],ent[4]) for ent in train_data_test.values]\n"
     ]
    }
   ],
   "source": [
    "train_data_test[\"calculated_survival_rate\"] = [cal_survival(ent[1],ent[2],ent[3],ent[4]) for ent in train_data_test.values]"
   ]
  },
  {
   "cell_type": "code",
   "execution_count": 58,
   "metadata": {},
   "outputs": [
    {
     "name": "stderr",
     "output_type": "stream",
     "text": [
      "/tmp/ipykernel_21194/2247255125.py:4: SettingWithCopyWarning: \n",
      "A value is trying to be set on a copy of a slice from a DataFrame.\n",
      "Try using .loc[row_indexer,col_indexer] = value instead\n",
      "\n",
      "See the caveats in the documentation: https://pandas.pydata.org/pandas-docs/stable/user_guide/indexing.html#returning-a-view-versus-a-copy\n",
      "  train_data_test[\"calculated_survived\"] = [cal_survived(x) for x in train_data_test.calculated_survival_rate]\n"
     ]
    }
   ],
   "source": [
    "def cal_survived(x):\n",
    "    if x <= .5: return 0\n",
    "    else: return 1\n",
    "train_data_test[\"calculated_survived\"] = [cal_survived(x) for x in train_data_test.calculated_survival_rate]"
   ]
  },
  {
   "cell_type": "code",
   "execution_count": 61,
   "metadata": {},
   "outputs": [
    {
     "data": {
      "text/html": [
       "<div>\n",
       "<style scoped>\n",
       "    .dataframe tbody tr th:only-of-type {\n",
       "        vertical-align: middle;\n",
       "    }\n",
       "\n",
       "    .dataframe tbody tr th {\n",
       "        vertical-align: top;\n",
       "    }\n",
       "\n",
       "    .dataframe thead th {\n",
       "        text-align: right;\n",
       "    }\n",
       "</style>\n",
       "<table border=\"1\" class=\"dataframe\">\n",
       "  <thead>\n",
       "    <tr style=\"text-align: right;\">\n",
       "      <th></th>\n",
       "      <th>Name</th>\n",
       "      <th>Embarked</th>\n",
       "      <th>Pclass</th>\n",
       "      <th>Sex</th>\n",
       "      <th>title</th>\n",
       "      <th>Survived</th>\n",
       "      <th>calculated_survival_rate</th>\n",
       "      <th>calculated_survived</th>\n",
       "    </tr>\n",
       "    <tr>\n",
       "      <th>PassengerId</th>\n",
       "      <th></th>\n",
       "      <th></th>\n",
       "      <th></th>\n",
       "      <th></th>\n",
       "      <th></th>\n",
       "      <th></th>\n",
       "      <th></th>\n",
       "      <th></th>\n",
       "    </tr>\n",
       "  </thead>\n",
       "  <tbody>\n",
       "    <tr>\n",
       "      <th>15</th>\n",
       "      <td>Vestrom, Miss. Hulda Amanda Adolfina</td>\n",
       "      <td>S</td>\n",
       "      <td>3</td>\n",
       "      <td>female</td>\n",
       "      <td>Miss</td>\n",
       "      <td>0</td>\n",
       "      <td>0.504790</td>\n",
       "      <td>1</td>\n",
       "    </tr>\n",
       "    <tr>\n",
       "      <th>18</th>\n",
       "      <td>Williams, Mr. Charles Eugene</td>\n",
       "      <td>S</td>\n",
       "      <td>2</td>\n",
       "      <td>male</td>\n",
       "      <td>Mr</td>\n",
       "      <td>1</td>\n",
       "      <td>0.288841</td>\n",
       "      <td>0</td>\n",
       "    </tr>\n",
       "    <tr>\n",
       "      <th>19</th>\n",
       "      <td>Vander Planke, Mrs. Julius (Emelia Maria Vande...</td>\n",
       "      <td>S</td>\n",
       "      <td>3</td>\n",
       "      <td>female</td>\n",
       "      <td>Mrs</td>\n",
       "      <td>0</td>\n",
       "      <td>0.528339</td>\n",
       "      <td>1</td>\n",
       "    </tr>\n",
       "    <tr>\n",
       "      <th>22</th>\n",
       "      <td>Beesley, Mr. Lawrence</td>\n",
       "      <td>S</td>\n",
       "      <td>2</td>\n",
       "      <td>male</td>\n",
       "      <td>Mr</td>\n",
       "      <td>1</td>\n",
       "      <td>0.288841</td>\n",
       "      <td>0</td>\n",
       "    </tr>\n",
       "    <tr>\n",
       "      <th>24</th>\n",
       "      <td>Sloper, Mr. William Thompson</td>\n",
       "      <td>S</td>\n",
       "      <td>1</td>\n",
       "      <td>male</td>\n",
       "      <td>Mr</td>\n",
       "      <td>1</td>\n",
       "      <td>0.328042</td>\n",
       "      <td>0</td>\n",
       "    </tr>\n",
       "    <tr>\n",
       "      <th>...</th>\n",
       "      <td>...</td>\n",
       "      <td>...</td>\n",
       "      <td>...</td>\n",
       "      <td>...</td>\n",
       "      <td>...</td>\n",
       "      <td>...</td>\n",
       "      <td>...</td>\n",
       "      <td>...</td>\n",
       "    </tr>\n",
       "    <tr>\n",
       "      <th>870</th>\n",
       "      <td>Johnson, Master. Harold Theodor</td>\n",
       "      <td>S</td>\n",
       "      <td>3</td>\n",
       "      <td>male</td>\n",
       "      <td>Master</td>\n",
       "      <td>1</td>\n",
       "      <td>0.335807</td>\n",
       "      <td>0</td>\n",
       "    </tr>\n",
       "    <tr>\n",
       "      <th>883</th>\n",
       "      <td>Dahlberg, Miss. Gerda Ulrika</td>\n",
       "      <td>S</td>\n",
       "      <td>3</td>\n",
       "      <td>female</td>\n",
       "      <td>Miss</td>\n",
       "      <td>0</td>\n",
       "      <td>0.504790</td>\n",
       "      <td>1</td>\n",
       "    </tr>\n",
       "    <tr>\n",
       "      <th>886</th>\n",
       "      <td>Rice, Mrs. William (Margaret Norton)</td>\n",
       "      <td>Q</td>\n",
       "      <td>3</td>\n",
       "      <td>female</td>\n",
       "      <td>Mrs</td>\n",
       "      <td>0</td>\n",
       "      <td>0.541503</td>\n",
       "      <td>1</td>\n",
       "    </tr>\n",
       "    <tr>\n",
       "      <th>889</th>\n",
       "      <td>Johnston, Miss. Catherine Helen \"Carrie\"</td>\n",
       "      <td>S</td>\n",
       "      <td>3</td>\n",
       "      <td>female</td>\n",
       "      <td>Miss</td>\n",
       "      <td>0</td>\n",
       "      <td>0.504790</td>\n",
       "      <td>1</td>\n",
       "    </tr>\n",
       "    <tr>\n",
       "      <th>890</th>\n",
       "      <td>Behr, Mr. Karl Howell</td>\n",
       "      <td>C</td>\n",
       "      <td>1</td>\n",
       "      <td>male</td>\n",
       "      <td>Mr</td>\n",
       "      <td>1</td>\n",
       "      <td>0.382196</td>\n",
       "      <td>0</td>\n",
       "    </tr>\n",
       "  </tbody>\n",
       "</table>\n",
       "<p>189 rows × 8 columns</p>\n",
       "</div>"
      ],
      "text/plain": [
       "                                                          Name Embarked  \\\n",
       "PassengerId                                                               \n",
       "15                        Vestrom, Miss. Hulda Amanda Adolfina        S   \n",
       "18                                Williams, Mr. Charles Eugene        S   \n",
       "19           Vander Planke, Mrs. Julius (Emelia Maria Vande...        S   \n",
       "22                                       Beesley, Mr. Lawrence        S   \n",
       "24                                Sloper, Mr. William Thompson        S   \n",
       "...                                                        ...      ...   \n",
       "870                            Johnson, Master. Harold Theodor        S   \n",
       "883                               Dahlberg, Miss. Gerda Ulrika        S   \n",
       "886                       Rice, Mrs. William (Margaret Norton)        Q   \n",
       "889                   Johnston, Miss. Catherine Helen \"Carrie\"        S   \n",
       "890                                      Behr, Mr. Karl Howell        C   \n",
       "\n",
       "            Pclass     Sex   title  Survived  calculated_survival_rate  \\\n",
       "PassengerId                                                              \n",
       "15               3  female    Miss         0                  0.504790   \n",
       "18               2    male      Mr         1                  0.288841   \n",
       "19               3  female     Mrs         0                  0.528339   \n",
       "22               2    male      Mr         1                  0.288841   \n",
       "24               1    male      Mr         1                  0.328042   \n",
       "...            ...     ...     ...       ...                       ...   \n",
       "870              3    male  Master         1                  0.335807   \n",
       "883              3  female    Miss         0                  0.504790   \n",
       "886              3  female     Mrs         0                  0.541503   \n",
       "889              3  female    Miss         0                  0.504790   \n",
       "890              1    male      Mr         1                  0.382196   \n",
       "\n",
       "             calculated_survived  \n",
       "PassengerId                       \n",
       "15                             1  \n",
       "18                             0  \n",
       "19                             1  \n",
       "22                             0  \n",
       "24                             0  \n",
       "...                          ...  \n",
       "870                            0  \n",
       "883                            1  \n",
       "886                            1  \n",
       "889                            1  \n",
       "890                            0  \n",
       "\n",
       "[189 rows x 8 columns]"
      ]
     },
     "execution_count": 61,
     "metadata": {},
     "output_type": "execute_result"
    }
   ],
   "source": [
    "train_data_test[train_data_test.Survived != train_data_test.calculated_survived]"
   ]
  },
  {
   "cell_type": "code",
   "execution_count": 62,
   "metadata": {},
   "outputs": [
    {
     "data": {
      "text/html": [
       "<div>\n",
       "<style scoped>\n",
       "    .dataframe tbody tr th:only-of-type {\n",
       "        vertical-align: middle;\n",
       "    }\n",
       "\n",
       "    .dataframe tbody tr th {\n",
       "        vertical-align: top;\n",
       "    }\n",
       "\n",
       "    .dataframe thead th {\n",
       "        text-align: right;\n",
       "    }\n",
       "</style>\n",
       "<table border=\"1\" class=\"dataframe\">\n",
       "  <thead>\n",
       "    <tr style=\"text-align: right;\">\n",
       "      <th></th>\n",
       "      <th>Name</th>\n",
       "      <th>Embarked</th>\n",
       "      <th>Pclass</th>\n",
       "      <th>Sex</th>\n",
       "      <th>title</th>\n",
       "      <th>Survived</th>\n",
       "      <th>calculated_survival_rate</th>\n",
       "      <th>calculated_survived</th>\n",
       "    </tr>\n",
       "    <tr>\n",
       "      <th>PassengerId</th>\n",
       "      <th></th>\n",
       "      <th></th>\n",
       "      <th></th>\n",
       "      <th></th>\n",
       "      <th></th>\n",
       "      <th></th>\n",
       "      <th></th>\n",
       "      <th></th>\n",
       "    </tr>\n",
       "  </thead>\n",
       "  <tbody>\n",
       "    <tr>\n",
       "      <th>1</th>\n",
       "      <td>Braund, Mr. Owen Harris</td>\n",
       "      <td>S</td>\n",
       "      <td>3</td>\n",
       "      <td>male</td>\n",
       "      <td>Mr</td>\n",
       "      <td>0</td>\n",
       "      <td>0.231225</td>\n",
       "      <td>0</td>\n",
       "    </tr>\n",
       "    <tr>\n",
       "      <th>2</th>\n",
       "      <td>Cumings, Mrs. John Bradley (Florence Briggs Th...</td>\n",
       "      <td>C</td>\n",
       "      <td>1</td>\n",
       "      <td>female</td>\n",
       "      <td>Mrs</td>\n",
       "      <td>1</td>\n",
       "      <td>0.679310</td>\n",
       "      <td>1</td>\n",
       "    </tr>\n",
       "    <tr>\n",
       "      <th>3</th>\n",
       "      <td>Heikkinen, Miss. Laina</td>\n",
       "      <td>S</td>\n",
       "      <td>3</td>\n",
       "      <td>female</td>\n",
       "      <td>Miss</td>\n",
       "      <td>1</td>\n",
       "      <td>0.504790</td>\n",
       "      <td>1</td>\n",
       "    </tr>\n",
       "    <tr>\n",
       "      <th>4</th>\n",
       "      <td>Futrelle, Mrs. Jacques Heath (Lily May Peel)</td>\n",
       "      <td>S</td>\n",
       "      <td>1</td>\n",
       "      <td>female</td>\n",
       "      <td>Mrs</td>\n",
       "      <td>1</td>\n",
       "      <td>0.625156</td>\n",
       "      <td>1</td>\n",
       "    </tr>\n",
       "    <tr>\n",
       "      <th>5</th>\n",
       "      <td>Allen, Mr. William Henry</td>\n",
       "      <td>S</td>\n",
       "      <td>3</td>\n",
       "      <td>male</td>\n",
       "      <td>Mr</td>\n",
       "      <td>0</td>\n",
       "      <td>0.231225</td>\n",
       "      <td>0</td>\n",
       "    </tr>\n",
       "    <tr>\n",
       "      <th>...</th>\n",
       "      <td>...</td>\n",
       "      <td>...</td>\n",
       "      <td>...</td>\n",
       "      <td>...</td>\n",
       "      <td>...</td>\n",
       "      <td>...</td>\n",
       "      <td>...</td>\n",
       "      <td>...</td>\n",
       "    </tr>\n",
       "    <tr>\n",
       "      <th>887</th>\n",
       "      <td>Montvila, Rev. Juozas</td>\n",
       "      <td>S</td>\n",
       "      <td>2</td>\n",
       "      <td>male</td>\n",
       "      <td>Rev</td>\n",
       "      <td>0</td>\n",
       "      <td>0.249673</td>\n",
       "      <td>0</td>\n",
       "    </tr>\n",
       "    <tr>\n",
       "      <th>888</th>\n",
       "      <td>Graham, Miss. Margaret Edith</td>\n",
       "      <td>S</td>\n",
       "      <td>1</td>\n",
       "      <td>female</td>\n",
       "      <td>Miss</td>\n",
       "      <td>1</td>\n",
       "      <td>0.601607</td>\n",
       "      <td>1</td>\n",
       "    </tr>\n",
       "    <tr>\n",
       "      <th>889</th>\n",
       "      <td>Johnston, Miss. Catherine Helen \"Carrie\"</td>\n",
       "      <td>S</td>\n",
       "      <td>3</td>\n",
       "      <td>female</td>\n",
       "      <td>Miss</td>\n",
       "      <td>0</td>\n",
       "      <td>0.504790</td>\n",
       "      <td>1</td>\n",
       "    </tr>\n",
       "    <tr>\n",
       "      <th>890</th>\n",
       "      <td>Behr, Mr. Karl Howell</td>\n",
       "      <td>C</td>\n",
       "      <td>1</td>\n",
       "      <td>male</td>\n",
       "      <td>Mr</td>\n",
       "      <td>1</td>\n",
       "      <td>0.382196</td>\n",
       "      <td>0</td>\n",
       "    </tr>\n",
       "    <tr>\n",
       "      <th>891</th>\n",
       "      <td>Dooley, Mr. Patrick</td>\n",
       "      <td>Q</td>\n",
       "      <td>3</td>\n",
       "      <td>male</td>\n",
       "      <td>Mr</td>\n",
       "      <td>0</td>\n",
       "      <td>0.244389</td>\n",
       "      <td>0</td>\n",
       "    </tr>\n",
       "  </tbody>\n",
       "</table>\n",
       "<p>891 rows × 8 columns</p>\n",
       "</div>"
      ],
      "text/plain": [
       "                                                          Name Embarked  \\\n",
       "PassengerId                                                               \n",
       "1                                      Braund, Mr. Owen Harris        S   \n",
       "2            Cumings, Mrs. John Bradley (Florence Briggs Th...        C   \n",
       "3                                       Heikkinen, Miss. Laina        S   \n",
       "4                 Futrelle, Mrs. Jacques Heath (Lily May Peel)        S   \n",
       "5                                     Allen, Mr. William Henry        S   \n",
       "...                                                        ...      ...   \n",
       "887                                      Montvila, Rev. Juozas        S   \n",
       "888                               Graham, Miss. Margaret Edith        S   \n",
       "889                   Johnston, Miss. Catherine Helen \"Carrie\"        S   \n",
       "890                                      Behr, Mr. Karl Howell        C   \n",
       "891                                        Dooley, Mr. Patrick        Q   \n",
       "\n",
       "            Pclass     Sex title  Survived  calculated_survival_rate  \\\n",
       "PassengerId                                                            \n",
       "1                3    male    Mr         0                  0.231225   \n",
       "2                1  female   Mrs         1                  0.679310   \n",
       "3                3  female  Miss         1                  0.504790   \n",
       "4                1  female   Mrs         1                  0.625156   \n",
       "5                3    male    Mr         0                  0.231225   \n",
       "...            ...     ...   ...       ...                       ...   \n",
       "887              2    male   Rev         0                  0.249673   \n",
       "888              1  female  Miss         1                  0.601607   \n",
       "889              3  female  Miss         0                  0.504790   \n",
       "890              1    male    Mr         1                  0.382196   \n",
       "891              3    male    Mr         0                  0.244389   \n",
       "\n",
       "             calculated_survived  \n",
       "PassengerId                       \n",
       "1                              0  \n",
       "2                              1  \n",
       "3                              1  \n",
       "4                              1  \n",
       "5                              0  \n",
       "...                          ...  \n",
       "887                            0  \n",
       "888                            1  \n",
       "889                            1  \n",
       "890                            0  \n",
       "891                            0  \n",
       "\n",
       "[891 rows x 8 columns]"
      ]
     },
     "execution_count": 62,
     "metadata": {},
     "output_type": "execute_result"
    }
   ],
   "source": [
    "train_data_test"
   ]
  },
  {
   "cell_type": "code",
   "execution_count": 63,
   "metadata": {},
   "outputs": [
    {
     "data": {
      "text/plain": [
       "0.21212121212121213"
      ]
     },
     "execution_count": 63,
     "metadata": {},
     "output_type": "execute_result"
    }
   ],
   "source": [
    "189/891"
   ]
  },
  {
   "cell_type": "code",
   "execution_count": 65,
   "metadata": {},
   "outputs": [],
   "source": [
    "test_data_final = test_data[[\"Name\",\"Embarked\",\"Pclass\",\"Sex\",\"title\"]]"
   ]
  },
  {
   "cell_type": "code",
   "execution_count": 66,
   "metadata": {},
   "outputs": [
    {
     "name": "stderr",
     "output_type": "stream",
     "text": [
      "/tmp/ipykernel_21194/3360204640.py:1: SettingWithCopyWarning: \n",
      "A value is trying to be set on a copy of a slice from a DataFrame.\n",
      "Try using .loc[row_indexer,col_indexer] = value instead\n",
      "\n",
      "See the caveats in the documentation: https://pandas.pydata.org/pandas-docs/stable/user_guide/indexing.html#returning-a-view-versus-a-copy\n",
      "  test_data_final[\"Survived\"] = [cal_survived(cal_survival(ent[1],ent[2],ent[3],ent[4])) for ent in test_data_final.values]\n"
     ]
    }
   ],
   "source": [
    "test_data_final[\"Survived\"] = [cal_survived(cal_survival(ent[1],ent[2],ent[3],ent[4])) for ent in test_data_final.values]"
   ]
  },
  {
   "cell_type": "code",
   "execution_count": 73,
   "metadata": {},
   "outputs": [],
   "source": [
    "test_data_final[[\"Survived\"]].sort_values(by=[\"PassengerId\"]).to_csv(\"summit.csv\")"
   ]
  },
  {
   "cell_type": "code",
   "execution_count": null,
   "metadata": {},
   "outputs": [],
   "source": []
  }
 ],
 "metadata": {
  "kernelspec": {
   "display_name": "data_science",
   "language": "python",
   "name": "python3"
  },
  "language_info": {
   "codemirror_mode": {
    "name": "ipython",
    "version": 3
   },
   "file_extension": ".py",
   "mimetype": "text/x-python",
   "name": "python",
   "nbconvert_exporter": "python",
   "pygments_lexer": "ipython3",
   "version": "3.9.12 (main, Apr  5 2022, 06:56:58) \n[GCC 7.5.0]"
  },
  "orig_nbformat": 4,
  "vscode": {
   "interpreter": {
    "hash": "a10e4b5ad14839566a2f735df5e9b3727c3adb97c6db97ba3b9982fff39dfe07"
   }
  }
 },
 "nbformat": 4,
 "nbformat_minor": 2
}
